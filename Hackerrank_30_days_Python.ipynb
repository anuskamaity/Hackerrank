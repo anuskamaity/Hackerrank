{
  "nbformat": 4,
  "nbformat_minor": 0,
  "metadata": {
    "colab": {
      "name": "Hackerrank 30 days Python.ipynb",
      "provenance": [],
      "authorship_tag": "ABX9TyNgSPwM9138+fLi4DgSh7pL"
    },
    "kernelspec": {
      "name": "python3",
      "display_name": "Python 3"
    }
  },
  "cells": [
    {
      "cell_type": "markdown",
      "metadata": {
        "id": "Ew3JTxbhRC50",
        "colab_type": "text"
      },
      "source": [
        "## Day 6 : Let's Review"
      ]
    },
    {
      "cell_type": "code",
      "metadata": {
        "id": "F6Om8YkpRS2X",
        "colab_type": "code",
        "colab": {}
      },
      "source": [
        "T = int(input().strip())\n",
        "\n",
        "for i in range(0, T):\n",
        "\tS = input()\n",
        "\teven, odd = S[::2], S[1::2]\n",
        "\tprint(even + \" \" + odd)"
      ],
      "execution_count": null,
      "outputs": []
    }
  ]
}