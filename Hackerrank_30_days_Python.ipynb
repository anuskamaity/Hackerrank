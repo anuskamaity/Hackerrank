{
  "nbformat": 4,
  "nbformat_minor": 0,
  "metadata": {
    "colab": {
      "name": "Hackerrank 30 days Python.ipynb",
      "provenance": [],
      "collapsed_sections": [],
      "authorship_tag": "ABX9TyMm684FZwsW1qtuWGLarU2O"
    },
    "kernelspec": {
      "name": "python3",
      "display_name": "Python 3"
    }
  },
  "cells": [
    {
      "cell_type": "markdown",
      "metadata": {
        "id": "wRldqGQVTiB7",
        "colab_type": "text"
      },
      "source": [
        "## Day 0 : Hello World"
      ]
    },
    {
      "cell_type": "code",
      "metadata": {
        "id": "G3OW_pOdTsB6",
        "colab_type": "code",
        "colab": {}
      },
      "source": [
        "# Read a full line of input from stdin and save it to our dynamically typed variable, input_string.\n",
        "input_string = input()\n",
        "\n",
        "# Print a string literal saying \"Hello, World.\" to stdout.\n",
        "print('Hello, World.')\n",
        "print(input_string)\n",
        "# TODO: Write a line of code here that prints the contents of input_string to stdout.\n"
      ],
      "execution_count": null,
      "outputs": []
    },
    {
      "cell_type": "markdown",
      "metadata": {
        "id": "osZx70PYT07I",
        "colab_type": "text"
      },
      "source": [
        "## Day 1 : Data Types"
      ]
    },
    {
      "cell_type": "code",
      "metadata": {
        "id": "e7gY0zUsUCNU",
        "colab_type": "code",
        "colab": {}
      },
      "source": [
        "i = 4\n",
        "d = 4.0\n",
        "s = 'HackerRank '\n",
        "# Declare second integer, double, and String variables.\n",
        "a=int(input())\n",
        "b=float(input())\n",
        "char=input()\n",
        "# Read and save an integer, double, and String to your variables.\n",
        "\n",
        "# Print the sum of both integer variables on a new line.\n",
        "print(a+i)\n",
        "# Print the sum of the double variables on a new line.\n",
        "print(b+i)\n",
        "# Concatenate and print the String variables on a new line\n",
        "# The 's' variable above should be printed first.\n",
        "print(s+char)"
      ],
      "execution_count": null,
      "outputs": []
    },
    {
      "cell_type": "markdown",
      "metadata": {
        "id": "_JeYfGIaUJTN",
        "colab_type": "text"
      },
      "source": [
        "## Day 2 : Operators"
      ]
    },
    {
      "cell_type": "code",
      "metadata": {
        "id": "0L0aAzRIUTHi",
        "colab_type": "code",
        "colab": {}
      },
      "source": [
        "#!/bin/python3\n",
        "\n",
        "import math\n",
        "import os\n",
        "import random\n",
        "import re\n",
        "import sys\n",
        "\n",
        "# Complete the solve function below.\n",
        "def solve(meal_cost, tip_percent, tax_percent):\n",
        "    tip=meal_cost*(tip_percent/100)\n",
        "    tax=meal_cost*(tax_percent/100)\n",
        "    final= meal_cost+tip+tax\n",
        "    print(round(final))\n",
        "if __name__ == '__main__':\n",
        "    meal_cost = float(input())\n",
        "\n",
        "    tip_percent = int(input())\n",
        "\n",
        "    tax_percent = int(input())\n",
        "\n",
        "    solve(meal_cost, tip_percent, tax_percent)\n"
      ],
      "execution_count": null,
      "outputs": []
    },
    {
      "cell_type": "markdown",
      "metadata": {
        "id": "RaChkPYTUZgc",
        "colab_type": "text"
      },
      "source": [
        "## Day 3 : Intro to Conditional Statements"
      ]
    },
    {
      "cell_type": "code",
      "metadata": {
        "id": "TmZjeW6sUkOB",
        "colab_type": "code",
        "colab": {}
      },
      "source": [
        "#!/bin/python3\n",
        "\n",
        "import math\n",
        "import os\n",
        "import random\n",
        "import re\n",
        "import sys\n",
        "\n",
        "\n",
        "\n",
        "if __name__ == '__main__':\n",
        "    N = int(input())\n",
        "    if N%2==1:\n",
        "        print(\"Weird\")\n",
        "    if N%2==0:\n",
        "        if N>=2 and N<=5:\n",
        "            print(\"Not Weird\")\n",
        "        elif N>=6 and N<=20:\n",
        "            print(\"Weird\")\n",
        "        else:\n",
        "            print(\"Not Weird\")\n"
      ],
      "execution_count": null,
      "outputs": []
    },
    {
      "cell_type": "markdown",
      "metadata": {
        "id": "iQz3tQMIUp3I",
        "colab_type": "text"
      },
      "source": [
        "## Day 4 : Class vs. Instance"
      ]
    },
    {
      "cell_type": "code",
      "metadata": {
        "id": "Yqp_LdalUxcA",
        "colab_type": "code",
        "colab": {}
      },
      "source": [
        "class Person:\n",
        "    def __init__(self,initialAge):\n",
        "        # Add some more code to run some checks on initialAge\n",
        "        if initialAge < 0:\n",
        "            print(\"Age is not valid, setting age to 0.\")\n",
        "            self._age = 0\n",
        "        else:\n",
        "            self._age = initialAge\n",
        "    def amIOld(self):\n",
        "        # Do some computations in here and print out the correct statement to the console\n",
        "        if self._age < 13:\n",
        "            print(\"You are young.\")\n",
        "        elif (13 <= self._age) and (self._age < 18):\n",
        "            print(\"You are a teenager.\")\n",
        "        else:\n",
        "            print(\"You are old.\")\n",
        "    def yearPasses(self):\n",
        "        # Increment the age of the person in here\n",
        "        self._age += 1\n",
        "\n",
        "t = int(input())"
      ],
      "execution_count": null,
      "outputs": []
    },
    {
      "cell_type": "markdown",
      "metadata": {
        "id": "C5MYKgBpU4b-",
        "colab_type": "text"
      },
      "source": [
        "## Day 5 : Loops"
      ]
    },
    {
      "cell_type": "code",
      "metadata": {
        "id": "xU4r5XMcU_0A",
        "colab_type": "code",
        "colab": {}
      },
      "source": [
        "#!/bin/python3\n",
        "\n",
        "import math\n",
        "import os\n",
        "import random\n",
        "import re\n",
        "import sys\n",
        "\n",
        "\n",
        "\n",
        "if __name__ == '__main__':\n",
        "    n = int(input())\n",
        "    for i in range(1,11):\n",
        "        print(f'{n} x {i} = {n*i}')\n"
      ],
      "execution_count": null,
      "outputs": []
    },
    {
      "cell_type": "markdown",
      "metadata": {
        "id": "Ew3JTxbhRC50",
        "colab_type": "text"
      },
      "source": [
        "## Day 6 : Let's Review"
      ]
    },
    {
      "cell_type": "code",
      "metadata": {
        "id": "F6Om8YkpRS2X",
        "colab_type": "code",
        "colab": {}
      },
      "source": [
        "T = int(input().strip())\n",
        "\n",
        "for i in range(0, T):\n",
        "\tS = input()\n",
        "\teven, odd = S[::2], S[1::2]\n",
        "\tprint(even + \" \" + odd)"
      ],
      "execution_count": null,
      "outputs": []
    },
    {
      "cell_type": "markdown",
      "metadata": {
        "id": "GmLPW1UtTEYI",
        "colab_type": "text"
      },
      "source": [
        "## Day 7 : Arrays"
      ]
    },
    {
      "cell_type": "code",
      "metadata": {
        "id": "xeWFlt0dTKjV",
        "colab_type": "code",
        "colab": {}
      },
      "source": [
        "import math\n",
        "import os\n",
        "import random\n",
        "import re\n",
        "import sys\n",
        "\n",
        "\n",
        "\n",
        "if __name__ == '__main__':\n",
        "    n = int(input())\n",
        "\n",
        "    arr = list(map(int, input().rstrip().split()))\n",
        "    print(*(arr[::-1]))"
      ],
      "execution_count": null,
      "outputs": []
    },
    {
      "cell_type": "markdown",
      "metadata": {
        "id": "UpYW5qGepz2v",
        "colab_type": "text"
      },
      "source": [
        "## Day 8 : Dictionaries and maps"
      ]
    },
    {
      "cell_type": "code",
      "metadata": {
        "id": "in2Y6O6np5F0",
        "colab_type": "code",
        "colab": {}
      },
      "source": [
        "phonebook = {}\n",
        "entries = int(raw_input())\n",
        "\n",
        "for n in range(entries):\n",
        "    name, num = raw_input().strip().split(' ')\n",
        "    name, num = [str(name), int(num)]\n",
        "    phonebook[name] = num\n",
        "\n",
        "while True:\n",
        "    try:  \n",
        "        search = str(raw_input())\n",
        "\n",
        "        if search in phonebook:\n",
        "            output = ''.join('%s=%r' % (search, phonebook[search]))\n",
        "            print output\n",
        "        else:\n",
        "            print \"Not found\"\n",
        "    except EOFError:\n",
        "        break"
      ],
      "execution_count": null,
      "outputs": []
    },
    {
      "cell_type": "markdown",
      "metadata": {
        "id": "WIp07jzZykWv",
        "colab_type": "text"
      },
      "source": [
        "## Day 9 : Recursion 3"
      ]
    },
    {
      "cell_type": "code",
      "metadata": {
        "id": "2ur_tlIxy6tb",
        "colab_type": "code",
        "colab": {}
      },
      "source": [
        "#!/bin/python3\n",
        "\n",
        "import math\n",
        "import os\n",
        "import random\n",
        "import re\n",
        "import sys\n",
        "\n",
        "# Complete the factorial function below.\n",
        "def factorial(n):\n",
        "    if n == 0:\n",
        "        return 1\n",
        "    else:\n",
        "        return n * factorial(n - 1)\n",
        "    print(result)\n",
        "if __name__ == '__main__':\n",
        "    fptr = open(os.environ['OUTPUT_PATH'], 'w')\n",
        "\n",
        "    n = int(input())\n",
        "    \n",
        "    result = factorial(n)\n",
        "\n",
        "    fptr.write(str(result) + '\\n')\n",
        "\n",
        "    fptr.close()"
      ],
      "execution_count": null,
      "outputs": []
    },
    {
      "cell_type": "markdown",
      "metadata": {
        "id": "qgbrEsZnY1AH",
        "colab_type": "text"
      },
      "source": [
        "## Day 10 : Binary Numbers"
      ]
    },
    {
      "cell_type": "code",
      "metadata": {
        "id": "fsv_OUUpY7C8",
        "colab_type": "code",
        "colab": {}
      },
      "source": [
        "n = int(input())\n",
        "\n",
        "max_one_count = 0\n",
        "one_count = 0\n",
        "\n",
        "while n != 0:\n",
        "\tfactor = n // 2\n",
        "\tremainder = n - 2 * factor\n",
        "\tn = factor\n",
        "\tif remainder == 1:\n",
        "\t\tone_count += 1\n",
        "\t\tmax_one_count = max(max_one_count, one_count)\n",
        "\telse:\n",
        "\t\tone_count = 0\n",
        "\n",
        "print(max_one_count)"
      ],
      "execution_count": null,
      "outputs": []
    },
    {
      "cell_type": "markdown",
      "metadata": {
        "id": "rDMhxI8uShYi",
        "colab_type": "text"
      },
      "source": [
        "## Day 11 : 2D Arrays"
      ]
    },
    {
      "cell_type": "code",
      "metadata": {
        "id": "A9eMhrMYSl66",
        "colab_type": "code",
        "colab": {}
      },
      "source": [
        "A = []\n",
        "for arr_i in range(6):\n",
        "\tarr_t = [int(arr_temp) for arr_temp in input().strip().split(' ')]\n",
        "\tA.append(arr_t)\n",
        "\n",
        "smax = -9 * 7\n",
        "\n",
        "for row in range(len(A) - 2):\n",
        "\tfor column in range(len(A[row]) - 2):\n",
        "\t\ttl = A[row][column]\n",
        "\t\ttc = A[row][column + 1]\n",
        "\t\ttr = A[row][column + 2]\n",
        "\t\tmc = A[row + 1][column + 1]\n",
        "\t\tbl = A[row + 2][column]\n",
        "\t\tbc = A[row + 2][column + 1]\n",
        "\t\tbr = A[row + 2][column + 2]\n",
        "\t\ts = tl + tc + tr + mc + bl + bc + br\n",
        "\t\tsmax = max(s, smax)\n",
        "\n",
        "print(smax)"
      ],
      "execution_count": null,
      "outputs": []
    },
    {
      "cell_type": "markdown",
      "metadata": {
        "id": "HedzqIr9SnSW",
        "colab_type": "text"
      },
      "source": [
        "## Day 12 : Inheritance"
      ]
    },
    {
      "cell_type": "code",
      "metadata": {
        "id": "eX5PUW9rUCz_",
        "colab_type": "code",
        "colab": {}
      },
      "source": [
        "lass Person:\n",
        "\tdef __init__(self, firstName, lastName, idNumber):\n",
        "\t\tself.firstName = firstName\n",
        "\t\tself.lastName = lastName\n",
        "\t\tself.idNumber = idNumber\n",
        "\tdef printPerson(self):\n",
        "\t\tprint(\"Name:\", self.lastName + \",\", self.firstName)\n",
        "\t\tprint(\"ID:\", self.idNumber)\n",
        "        \n",
        "class Student(Person):\n",
        "    #   Class Constructor\n",
        "    #   Parameters:\n",
        "    #   firstName - A string denoting the Person's first name.\n",
        "    #   lastName - A string denoting the Person's last name.\n",
        "    #   id - An integer denoting the Person's ID number.\n",
        "    #   scores - An array of integers denoting the Person's test scores.\n",
        "    #\n",
        "    # Write your constructor here\n",
        "    def __init__(self, firstName, lastName, idNumber, scores):\n",
        "            super().__init__(firstName, lastName, idNumber)\n",
        "            self.scores = scores\n",
        "\n",
        "    #   Function Name: calculate\n",
        "    #   Return: A character denoting the grade.\n",
        "    #\n",
        "    # Write your function here\n",
        "    def calculate(self):\n",
        "            a = sum(self.scores) / len(self.scores)\n",
        "            if a < 40:\n",
        "                return \"T\"\n",
        "            elif (40 <= a) and (a < 55):\n",
        "                return \"D\"\n",
        "            elif (55 <= a) and (a < 70):\n",
        "                return \"P\"\n",
        "            elif (70 <= a) and (a < 80):\n",
        "                return \"A\"\n",
        "            elif (80 <= a) and (a < 90):\n",
        "                return \"E\"\n",
        "            elif (90 <= a) and (a <= 100):\n",
        "                return \"O\"\n",
        "            else:\n",
        "                return \"\"\n",
        "\n",
        "line = input().split()\n",
        "firstName = line[0]\n",
        "lastName = line[1]\n",
        "idNum = line[2]\n",
        "numScores = int(input()) # not needed for Python\n",
        "scores = list( map(int, input().split()) )\n",
        "s = Student(firstName, lastName, idNum, scores)\n",
        "s.printPerson()\n",
        "print(\"Grade:\", s.calculate())"
      ],
      "execution_count": null,
      "outputs": []
    },
    {
      "cell_type": "markdown",
      "metadata": {
        "id": "iydT1LpAUFFM",
        "colab_type": "text"
      },
      "source": [
        "## Day 13 : Abstract Classes"
      ]
    },
    {
      "cell_type": "code",
      "metadata": {
        "id": "M_7QTY0uUl06",
        "colab_type": "code",
        "colab": {}
      },
      "source": [
        "from abc import ABCMeta, abstractmethod\n",
        "class Book(object, metaclass=ABCMeta):\n",
        "    def __init__(self,title,author):\n",
        "        self.title=title\n",
        "        self.author=author   \n",
        "    @abstractmethod\n",
        "    def display(): pass\n",
        "\n",
        "\n",
        "# Write MyBook class\n",
        "class MyBook(Book):\n",
        "    def __init__(self, title, author, price):\n",
        "        super().__init__(title, author)\n",
        "        self.price = price\n",
        "\n",
        "    def display(self):\n",
        "        print(\"Title:\", self.title)\n",
        "        print(\"Author:\", self.author)\n",
        "        print(\"Price:\", self.price)\n",
        "\n",
        "\n",
        "title=input()"
      ],
      "execution_count": null,
      "outputs": []
    },
    {
      "cell_type": "markdown",
      "metadata": {
        "id": "xr9JguChVD4s",
        "colab_type": "text"
      },
      "source": [
        "## Day 14 : Scope"
      ]
    },
    {
      "cell_type": "code",
      "metadata": {
        "id": "1GJps4bSVHBk",
        "colab_type": "code",
        "colab": {}
      },
      "source": [
        "class Difference:\n",
        "    def __init__(self, a):\n",
        "        self.__elements = a\n",
        "        self.maximumDifference = 0\n",
        "\n",
        "    # Add your code here\n",
        "    def computeDifference(self):\n",
        "        l = len(a)\n",
        "        for i in range(0, l):\n",
        "            for j in range(i + 1, l):\n",
        "                difference = abs(a[i] - a[j])\n",
        "                self.maximumDifference = max(difference, self.maximumDifference)"
      ],
      "execution_count": null,
      "outputs": []
    },
    {
      "cell_type": "markdown",
      "metadata": {
        "id": "ranAsIjkWGPU",
        "colab_type": "text"
      },
      "source": [
        "## Day 15 : Linked List"
      ]
    },
    {
      "cell_type": "code",
      "metadata": {
        "id": "eYaHtiyAWLWh",
        "colab_type": "code",
        "colab": {}
      },
      "source": [
        "def insert(self,head,data): \n",
        "    #Complete this method\n",
        "        node = Node(data)\n",
        "        if head==None :\n",
        "            return node\n",
        "        else :\n",
        "            currentNode=head;\n",
        "            while currentNode.next != None :\n",
        "                currentNode=currentNode.next;\n",
        "            currentNode.next=node\n",
        "            return head"
      ],
      "execution_count": null,
      "outputs": []
    },
    {
      "cell_type": "markdown",
      "metadata": {
        "id": "ZPU3jDwu1ANU",
        "colab_type": "text"
      },
      "source": [
        "## Day 16 : Exceptions-String to Integer"
      ]
    },
    {
      "cell_type": "code",
      "metadata": {
        "id": "QLwPh4mw1Gox",
        "colab_type": "code",
        "colab": {}
      },
      "source": [
        "try:\n",
        "    i = int(S)\n",
        "    print(i)\n",
        "except ValueError:\n",
        "    print(\"Bad String\")"
      ],
      "execution_count": null,
      "outputs": []
    }
  ]
}